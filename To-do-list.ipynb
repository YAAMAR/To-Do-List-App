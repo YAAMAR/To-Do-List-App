{
 "cells": [
  {
   "cell_type": "markdown",
   "id": "7b6483f2-db0b-4245-ad8b-edb3739f2bd0",
   "metadata": {},
   "source": [
    "**To-Do List (Console-Based)**"
   ]
  },
  {
   "cell_type": "markdown",
   "id": "c55048f1-64b3-4415-bb92-2afc2fb83f3c",
   "metadata": {},
   "source": [
    "🎯 Goal\n",
    "Create a command-line app to:\n",
    "\n",
    "Add tasks\n",
    "\n",
    "View tasks\n",
    "\n",
    "Remove tasks\n",
    "\n",
    "Save/load tasks from a file"
   ]
  },
  {
   "cell_type": "markdown",
   "id": "6a4ef25f-8173-447d-aa35-b16da5a49dc1",
   "metadata": {},
   "source": [
    "Initialize an Empty Task List"
   ]
  },
  {
   "cell_type": "code",
   "execution_count": 1,
   "id": "137e9d6a-6990-4a19-b4fd-179824321f20",
   "metadata": {},
   "outputs": [],
   "source": [
    "tasks = []\n"
   ]
  },
  {
   "cell_type": "markdown",
   "id": "d7f09125-349c-4970-accb-4602ffc1f342",
   "metadata": {},
   "source": [
    "Define Menu Options"
   ]
  },
  {
   "cell_type": "code",
   "execution_count": 2,
   "id": "38c46bba-0f52-428f-9946-07b47c6f0e0b",
   "metadata": {},
   "outputs": [],
   "source": [
    "def show_menu():\n",
    "    print(\"\\nTo-Do List Menu\")\n",
    "    print(\"1. View Tasks\")\n",
    "    print(\"2. Add Task\")\n",
    "    print(\"3. Remove Task\")\n",
    "    print(\"4. Save Tasks\")\n",
    "    print(\"5. Load Tasks\")\n",
    "    print(\"6. Exit\")\n"
   ]
  },
  {
   "cell_type": "markdown",
   "id": "a68fb1d2-a2f6-4f4f-b47b-d4ce40dba24e",
   "metadata": {},
   "source": [
    "Define Functionalities"
   ]
  },
  {
   "cell_type": "markdown",
   "id": "7294a7f3-33f3-4d15-aae5-947a74f5fff9",
   "metadata": {},
   "source": [
    " View Tasks"
   ]
  },
  {
   "cell_type": "code",
   "execution_count": 3,
   "id": "277d8565-bfb6-4b4d-9885-112481100141",
   "metadata": {},
   "outputs": [],
   "source": [
    "def view_tasks():\n",
    "    if not tasks:\n",
    "        print(\"No tasks in the list.\")\n",
    "    else:\n",
    "        for i, task in enumerate(tasks, 1):\n",
    "            print(f\"{i}. {task}\")\n"
   ]
  },
  {
   "cell_type": "markdown",
   "id": "c849a264-e4cc-4695-97c3-bb9a9d29cacf",
   "metadata": {},
   "source": [
    "➕ Add Task"
   ]
  },
  {
   "cell_type": "code",
   "execution_count": 4,
   "id": "79e0e3ee-9a49-4c39-a64c-eb2c18ce5533",
   "metadata": {},
   "outputs": [],
   "source": [
    "def add_task():\n",
    "    task = input(\"Enter the task: \")\n",
    "    tasks.append(task)\n",
    "    print(\"Task added.\")\n"
   ]
  },
  {
   "cell_type": "markdown",
   "id": "6943ad58-2b75-423b-93bd-cbcc0d983674",
   "metadata": {},
   "source": [
    "❌ Remove Task\n",
    "\n"
   ]
  },
  {
   "cell_type": "code",
   "execution_count": 5,
   "id": "c8408f3e-ab53-48bf-94d0-77985520273d",
   "metadata": {},
   "outputs": [],
   "source": [
    "def remove_task():\n",
    "    view_tasks()\n",
    "    try:\n",
    "        index = int(input(\"Enter task number to remove: \"))\n",
    "        removed = tasks.pop(index - 1)\n",
    "        print(f\"Removed: {removed}\")\n",
    "    except (IndexError, ValueError):\n",
    "        print(\"Invalid number.\")"
   ]
  },
  {
   "cell_type": "markdown",
   "id": "c2f8c2a4-fa96-4267-bd35-3e18252704ff",
   "metadata": {},
   "source": [
    "Save Tasks to File"
   ]
  },
  {
   "cell_type": "code",
   "execution_count": 6,
   "id": "b935bb47-7a83-4365-8db4-9c041eb36226",
   "metadata": {},
   "outputs": [],
   "source": [
    "def save_tasks():\n",
    "    with open(\"tasks.txt\", \"w\") as file:\n",
    "        for task in tasks:\n",
    "            file.write(task + \"\\n\")\n",
    "    print(\"Tasks saved.\")\n"
   ]
  },
  {
   "cell_type": "markdown",
   "id": "ad721312-c50d-4077-93c6-a43db1aa858b",
   "metadata": {},
   "source": [
    "📂 Load Tasks from File"
   ]
  },
  {
   "cell_type": "code",
   "execution_count": 7,
   "id": "520de301-e901-4076-901b-b926d5c79385",
   "metadata": {},
   "outputs": [],
   "source": [
    "def load_tasks():\n",
    "    try:\n",
    "        with open(\"tasks.txt\", \"r\") as file:\n",
    "            for line in file:\n",
    "                tasks.append(line.strip())\n",
    "        print(\"Tasks loaded.\")\n",
    "    except FileNotFoundError:\n",
    "        print(\"No saved tasks found.\")\n"
   ]
  },
  {
   "cell_type": "markdown",
   "id": "b0a7ea61-c65b-4fd1-9449-1147c749a0e9",
   "metadata": {},
   "source": [
    " Main Loop to Keep the App Running"
   ]
  },
  {
   "cell_type": "code",
   "execution_count": null,
   "id": "80534fa7-9333-437e-bc98-1046d5a53e07",
   "metadata": {},
   "outputs": [
    {
     "name": "stdout",
     "output_type": "stream",
     "text": [
      "\n",
      "To-Do List Menu\n",
      "1. View Tasks\n",
      "2. Add Task\n",
      "3. Remove Task\n",
      "4. Save Tasks\n",
      "5. Load Tasks\n",
      "6. Exit\n"
     ]
    },
    {
     "name": "stdin",
     "output_type": "stream",
     "text": [
      "Enter your choice (1-6):  add task\n"
     ]
    },
    {
     "name": "stdout",
     "output_type": "stream",
     "text": [
      "Invalid choice. Please try again.\n",
      "\n",
      "To-Do List Menu\n",
      "1. View Tasks\n",
      "2. Add Task\n",
      "3. Remove Task\n",
      "4. Save Tasks\n",
      "5. Load Tasks\n",
      "6. Exit\n"
     ]
    },
    {
     "name": "stdin",
     "output_type": "stream",
     "text": [
      "Enter your choice (1-6):  2\n",
      "Enter the task:  today morning i wakeup 5 o'clock\n"
     ]
    },
    {
     "name": "stdout",
     "output_type": "stream",
     "text": [
      "Task added.\n",
      "\n",
      "To-Do List Menu\n",
      "1. View Tasks\n",
      "2. Add Task\n",
      "3. Remove Task\n",
      "4. Save Tasks\n",
      "5. Load Tasks\n",
      "6. Exit\n"
     ]
    },
    {
     "name": "stdin",
     "output_type": "stream",
     "text": [
      "Enter your choice (1-6):  3\n"
     ]
    },
    {
     "name": "stdout",
     "output_type": "stream",
     "text": [
      "1. today morning i wakeup 5 o'clock\n"
     ]
    }
   ],
   "source": [
    "while True:\n",
    "    show_menu()\n",
    "    choice = input(\"Enter your choice (1-6): \")\n",
    "\n",
    "    if choice == '1':\n",
    "        view_tasks()\n",
    "    elif choice == '2':\n",
    "        add_task()\n",
    "    elif choice == '3':\n",
    "        remove_task()\n",
    "    elif choice == '4':\n",
    "        save_tasks()\n",
    "    elif choice == '5':\n",
    "        load_tasks()\n",
    "    elif choice == '6':\n",
    "        print(\"Exiting To-Do List. Goodbye!\")\n",
    "        break\n",
    "    else:\n",
    "        print(\"Invalid choice. Please try again.\")\n"
   ]
  },
  {
   "cell_type": "code",
   "execution_count": null,
   "id": "217f5f2c-d173-49db-b59c-af40e5986405",
   "metadata": {},
   "outputs": [],
   "source": []
  }
 ],
 "metadata": {
  "kernelspec": {
   "display_name": "Python 3 (ipykernel)",
   "language": "python",
   "name": "python3"
  },
  "language_info": {
   "codemirror_mode": {
    "name": "ipython",
    "version": 3
   },
   "file_extension": ".py",
   "mimetype": "text/x-python",
   "name": "python",
   "nbconvert_exporter": "python",
   "pygments_lexer": "ipython3",
   "version": "3.12.7"
  }
 },
 "nbformat": 4,
 "nbformat_minor": 5
}
